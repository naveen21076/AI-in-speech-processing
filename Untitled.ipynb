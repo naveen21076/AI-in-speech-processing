{
 "cells": [
  {
   "cell_type": "code",
   "execution_count": 1,
   "id": "93c9cfc1",
   "metadata": {},
   "outputs": [
    {
     "name": "stdout",
     "output_type": "stream",
     "text": [
      "wj\n"
     ]
    }
   ],
   "source": [
    "print('wj')"
   ]
  },
  {
   "cell_type": "code",
   "execution_count": null,
   "id": "7e828b55",
   "metadata": {},
   "outputs": [],
   "source": [
    "arr=[1,1,2,2,3,3,4,4,4,4,5]\n",
    "arr[i]=4\n",
    "arr[j]=5\n",
    "count.arrr[i]\n",
    "count.arrr[j]"
   ]
  },
  {
   "cell_type": "markdown",
   "id": "c0fe9982",
   "metadata": {},
   "source": []
  },
  {
   "cell_type": "code",
   "execution_count": 11,
   "id": "c82f4369",
   "metadata": {},
   "outputs": [
    {
     "name": "stdout",
     "output_type": "stream",
     "text": [
      "False\n"
     ]
    }
   ],
   "source": [
    "l1=(10,20,30\n",
    "l2=l1[:]\n",
    "print(l2 in l1)"
   ]
  },
  {
   "cell_type": "code",
   "execution_count": 14,
   "id": "10325cb6",
   "metadata": {},
   "outputs": [
    {
     "name": "stdout",
     "output_type": "stream",
     "text": [
      "True\n"
     ]
    }
   ],
   "source": [
    "t1 = [10, 20, 30]\n",
    "t2 = t1[:]  # Creates a shallow copy of t1\n",
    "\n",
    "# Check if each element of t1 is in t2\n",
    "print(all(item in t1 for item in t1))\n"
   ]
  },
  {
   "cell_type": "code",
   "execution_count": 10,
   "id": "0b5d80c8",
   "metadata": {},
   "outputs": [
    {
     "name": "stdout",
     "output_type": "stream",
     "text": [
      "True\n"
     ]
    }
   ],
   "source": [
    "t1 = (10, 20, 30)\n",
    "t2 = t1[:]  # Creates a shallow copy of t1\n",
    "\n",
    "# Check if each element of t1 is in t2\n",
    "print(all(item in t2 for item in t1))\n"
   ]
  },
  {
   "cell_type": "code",
   "execution_count": 2,
   "id": "874c3978",
   "metadata": {},
   "outputs": [
    {
     "name": "stdout",
     "output_type": "stream",
     "text": [
      "\n",
      "a\n",
      "am\n",
      "amr\n",
      "amri\n",
      "amrit\n",
      "amrita\n"
     ]
    }
   ],
   "source": [
    "s=\"amrita\"\n",
    "for i in range(0,len(s)+1):\n",
    "    print(s[:i])"
   ]
  },
  {
   "cell_type": "code",
   "execution_count": 34,
   "id": "cd37e915",
   "metadata": {},
   "outputs": [
    {
     "name": "stdout",
     "output_type": "stream",
     "text": [
      "a\n",
      "am\n",
      "amr\n",
      "amri\n",
      "amrit\n"
     ]
    }
   ],
   "source": [
    "s = \"amrita\"\n",
    "for i in range(1,len(s)):\n",
    "    print(s[:i])"
   ]
  },
  {
   "cell_type": "code",
   "execution_count": 26,
   "id": "0346b905",
   "metadata": {},
   "outputs": [
    {
     "name": "stdout",
     "output_type": "stream",
     "text": [
      "amrita\n",
      "amrit\n",
      "amri\n",
      "amr\n",
      "am\n",
      "a\n"
     ]
    }
   ],
   "source": [
    "s = \"amrita\"\n",
    "for i in range(len(s), 0, -1):\n",
    "    print(s[:i])\n"
   ]
  },
  {
   "cell_type": "code",
   "execution_count": 27,
   "id": "334bdf07",
   "metadata": {},
   "outputs": [
    {
     "name": "stdout",
     "output_type": "stream",
     "text": [
      "amrit\n",
      "amri\n",
      "amr\n",
      "am\n",
      "a\n"
     ]
    }
   ],
   "source": [
    "s = \"amrita\"\n",
    "for i in range(len(s) - 1, 0, -1):\n",
    "    print(s[:i])\n"
   ]
  },
  {
   "cell_type": "code",
   "execution_count": null,
   "id": "f74fa622",
   "metadata": {},
   "outputs": [],
   "source": []
  }
 ],
 "metadata": {
  "kernelspec": {
   "display_name": "Python 3 (ipykernel)",
   "language": "python",
   "name": "python3"
  },
  "language_info": {
   "codemirror_mode": {
    "name": "ipython",
    "version": 3
   },
   "file_extension": ".py",
   "mimetype": "text/x-python",
   "name": "python",
   "nbconvert_exporter": "python",
   "pygments_lexer": "ipython3",
   "version": "3.11.5"
  }
 },
 "nbformat": 4,
 "nbformat_minor": 5
}
